{
 "cells": [
  {
   "cell_type": "code",
   "execution_count": 1,
   "id": "4bc6f03d",
   "metadata": {},
   "outputs": [],
   "source": [
    "import pandas\n",
    "from sklearn.ensemble import RandomForestClassifier\n",
    "from sklearn.tree import DecisionTreeClassifier\n",
    "from sklearn import metrics "
   ]
  },
  {
   "cell_type": "code",
   "execution_count": 2,
   "id": "11745e09",
   "metadata": {},
   "outputs": [],
   "source": [
    "#Creates the columns for each of the features in csv data\n",
    "columns = ['url','malicious','url_res','hostname_res','path_res',\n",
    "           'first_dir_res','top_level_res','dash_res','at_res','q_res',\n",
    "           'percent_res','dot_res','equal_res','colon_res','www_res','numbers_res','letters_res',\n",
    "           'dir_res','single_letter_res','query_res','ratio_upper_lower_res','ip_res','shortened_res','http_res']\n",
    "\n",
    "#Reads training data into resultsTrain from shuffled output file containing training data\n",
    "resultsTrain = pandas.read_csv('../data/output_shuff_70.csv', header=None, names=columns)"
   ]
  },
  {
   "cell_type": "code",
   "execution_count": 3,
   "id": "09db25ae",
   "metadata": {},
   "outputs": [],
   "source": [
    "#Reads test data into resultsTest from shuffled output file containing test data\n",
    "resultsTest = pandas.read_csv('../data/output_shuff_30.csv', header=None, names=columns)"
   ]
  },
  {
   "cell_type": "code",
   "execution_count": 4,
   "id": "41b74e9b",
   "metadata": {},
   "outputs": [
    {
     "name": "stdout",
     "output_type": "stream",
     "text": [
      "[[18.  0.  0. ...  0.  0.  0.]\n",
      " [81.  0.  0. ...  1.  0.  0.]\n",
      " [21. 10.  0. ...  0.  1.  0.]\n",
      " ...\n",
      " [25. 13.  0. ...  0.  0.  1.]\n",
      " [22. 11.  0. ...  0.  0.  0.]\n",
      " [22. 10.  0. ...  0.  0.  1.]]\n",
      "[0 0 1 ... 1 1 1]\n",
      "(14207, 22)\n",
      "(14207,)\n"
     ]
    }
   ],
   "source": [
    "resultsTrain = resultsTrain.drop([resultsTrain.index[0]]) #this is to delete row with headers\n",
    "\n",
    "#Parses data into numerical values to be used to training data\n",
    "droppedResults = resultsTrain.drop(columns=['malicious', 'url'])\n",
    "droppedResults['url_res'] = pandas.to_numeric(droppedResults['url_res'], downcast='integer')\n",
    "droppedResults['hostname_res'] = pandas.to_numeric(droppedResults['hostname_res'])\n",
    "droppedResults['path_res'] = pandas.to_numeric(droppedResults['path_res'])\n",
    "droppedResults['first_dir_res'] = pandas.to_numeric(droppedResults['first_dir_res'])\n",
    "droppedResults['top_level_res'] = pandas.to_numeric(droppedResults['top_level_res'])\n",
    "droppedResults['dash_res'] = pandas.to_numeric(droppedResults['dash_res'])\n",
    "droppedResults['at_res'] = pandas.to_numeric(droppedResults['at_res'])\n",
    "droppedResults['q_res'] = pandas.to_numeric(droppedResults['q_res'])\n",
    "droppedResults['percent_res'] = pandas.to_numeric(droppedResults['percent_res'])\n",
    "droppedResults['dot_res'] = pandas.to_numeric(droppedResults['dot_res'])\n",
    "droppedResults['equal_res'] = pandas.to_numeric(droppedResults['equal_res'])\n",
    "droppedResults['colon_res'] = pandas.to_numeric(droppedResults['colon_res'])\n",
    "droppedResults['www_res'] = pandas.to_numeric(droppedResults['www_res'])\n",
    "droppedResults['numbers_res'] = pandas.to_numeric(droppedResults['numbers_res'])\n",
    "droppedResults['letters_res'] = pandas.to_numeric(droppedResults['letters_res'])\n",
    "droppedResults['dir_res'] = pandas.to_numeric(droppedResults['dir_res'])\n",
    "droppedResults['single_letter_res'] = pandas.to_numeric(droppedResults['single_letter_res'])\n",
    "droppedResults['query_res'] = pandas.to_numeric(droppedResults['query_res'])\n",
    "droppedResults['ratio_upper_lower_res'] = pandas.to_numeric(droppedResults['ratio_upper_lower_res'])\n",
    "droppedResults['ip_res'] = pandas.to_numeric(droppedResults['ip_res'])\n",
    "droppedResults['shortened_res'] = pandas.to_numeric(droppedResults['shortened_res'])\n",
    "droppedResults['http_res'] = pandas.to_numeric(droppedResults['http_res'])\n",
    "\n",
    "#Sets x_train to the features without the URL or malicious attributes included from training data\n",
    "x_train = droppedResults.values\n",
    "\n",
    "resultsTrain['malicious'] = pandas.to_numeric(resultsTrain['malicious'])\n",
    "\n",
    "#Sets y_train to the boolean value of if URL was malicious or not\n",
    "y_train = resultsTrain['malicious'].values\n",
    "\n",
    "print(x_train)\n",
    "print(y_train)\n",
    "\n",
    "print(x_train.shape)\n",
    "print(y_train.shape)"
   ]
  },
  {
   "cell_type": "code",
   "execution_count": 5,
   "id": "e9e04a6d",
   "metadata": {},
   "outputs": [
    {
     "name": "stdout",
     "output_type": "stream",
     "text": [
      "[[ 48.   0.   0. ...   0.   0.   1.]\n",
      " [ 21.   0.   0. ...   0.   0.   0.]\n",
      " [138.   0.   0. ...   0.   0.   0.]\n",
      " ...\n",
      " [ 22.  11.   0. ...   0.   0.   0.]\n",
      " [ 34.   0.   0. ...   0.   0.   1.]\n",
      " [ 37.   0.   0. ...   0.   1.   1.]]\n",
      "[0 0 0 ... 1 0 0]\n",
      "(6094, 22)\n",
      "(6094,)\n"
     ]
    }
   ],
   "source": [
    "resultsTest = resultsTest.drop([resultsTest.index[0]]) #this is to delete row with headers\n",
    "\n",
    "#Parses data into numerical values to be used to test data\n",
    "droppedResults = resultsTest.drop(columns=['malicious', 'url'])\n",
    "\n",
    "droppedResults['url_res'] = pandas.to_numeric(droppedResults['url_res'], downcast='integer')\n",
    "droppedResults['hostname_res'] = pandas.to_numeric(droppedResults['hostname_res'])\n",
    "droppedResults['path_res'] = pandas.to_numeric(droppedResults['path_res'])\n",
    "droppedResults['first_dir_res'] = pandas.to_numeric(droppedResults['first_dir_res'])\n",
    "droppedResults['top_level_res'] = pandas.to_numeric(droppedResults['top_level_res'])\n",
    "droppedResults['dash_res'] = pandas.to_numeric(droppedResults['dash_res'])\n",
    "droppedResults['at_res'] = pandas.to_numeric(droppedResults['at_res'])\n",
    "droppedResults['q_res'] = pandas.to_numeric(droppedResults['q_res'])\n",
    "droppedResults['percent_res'] = pandas.to_numeric(droppedResults['percent_res'])\n",
    "droppedResults['dot_res'] = pandas.to_numeric(droppedResults['dot_res'])\n",
    "droppedResults['equal_res'] = pandas.to_numeric(droppedResults['equal_res'])\n",
    "droppedResults['colon_res'] = pandas.to_numeric(droppedResults['colon_res'])\n",
    "droppedResults['www_res'] = pandas.to_numeric(droppedResults['www_res'])\n",
    "droppedResults['numbers_res'] = pandas.to_numeric(droppedResults['numbers_res'])\n",
    "droppedResults['letters_res'] = pandas.to_numeric(droppedResults['letters_res'])\n",
    "droppedResults['dir_res'] = pandas.to_numeric(droppedResults['dir_res'])\n",
    "droppedResults['single_letter_res'] = pandas.to_numeric(droppedResults['single_letter_res'])\n",
    "droppedResults['query_res'] = pandas.to_numeric(droppedResults['query_res'])\n",
    "droppedResults['ratio_upper_lower_res'] = pandas.to_numeric(droppedResults['ratio_upper_lower_res'])\n",
    "droppedResults['ip_res'] = pandas.to_numeric(droppedResults['ip_res'])\n",
    "droppedResults['shortened_res'] = pandas.to_numeric(droppedResults['shortened_res'])\n",
    "droppedResults['http_res'] = pandas.to_numeric(droppedResults['http_res'])\n",
    "\n",
    "#Sets x_test to the features without the URL or malicious attributes included from training data\n",
    "x_test = droppedResults.values\n",
    "\n",
    "resultsTest['malicious'] = pandas.to_numeric(resultsTest['malicious'])\n",
    "\n",
    "#Sets y_test to the boolean value of if URL was malicious or not\n",
    "y_test = resultsTest['malicious'].values\n",
    "\n",
    "print(x_test)\n",
    "print(y_test)\n",
    "\n",
    "print(x_test.shape)\n",
    "print(y_test.shape)"
   ]
  },
  {
   "cell_type": "code",
   "execution_count": 6,
   "id": "c18ce884",
   "metadata": {},
   "outputs": [
    {
     "name": "stdout",
     "output_type": "stream",
     "text": [
      "[0 0 1 ... 1 1 1]\n",
      "[0 0 0 ... 1 0 0]\n"
     ]
    }
   ],
   "source": [
    "#Creates a decision tree classifier\n",
    "tree = DecisionTreeClassifier(max_features=1)\n",
    "\n",
    "#Fits the tree to the training data\n",
    "tree.fit(x_train, y_train)\n",
    "\n",
    "#Makes a prediction on training data\n",
    "pred_train = tree.predict(x_train)\n",
    "print(pred_train)\n",
    "\n",
    "#Makes a predicition on test data\n",
    "pred_test = tree.predict(x_test)\n",
    "print(pred_test)"
   ]
  },
  {
   "cell_type": "code",
   "execution_count": 7,
   "id": "586a066b",
   "metadata": {},
   "outputs": [
    {
     "name": "stdout",
     "output_type": "stream",
     "text": [
      "0.9994368973041459\n"
     ]
    }
   ],
   "source": [
    "#Prints accuracy of training data based on true values (y_train values, if URL was malicious)\n",
    "accuracy_train = metrics.accuracy_score(y_train, pred_train)\n",
    "print(accuracy_train)"
   ]
  },
  {
   "cell_type": "code",
   "execution_count": 8,
   "id": "bd7f7b87",
   "metadata": {},
   "outputs": [
    {
     "name": "stdout",
     "output_type": "stream",
     "text": [
      "0.9960617000328191\n"
     ]
    }
   ],
   "source": [
    "#Prints accuracy of training data based on true values (y_test values, if URL was malicious)\n",
    "accuracy_test = metrics.accuracy_score(y_test, pred_test)\n",
    "print(accuracy_test)"
   ]
  },
  {
   "cell_type": "code",
   "execution_count": 9,
   "id": "e9b24876",
   "metadata": {},
   "outputs": [
    {
     "name": "stdout",
     "output_type": "stream",
     "text": [
      "0.003938299967180869\n"
     ]
    }
   ],
   "source": [
    "#Prints error value based on test data accuracy\n",
    "error = 1 - accuracy_test\n",
    "print(error)"
   ]
  },
  {
   "cell_type": "code",
   "execution_count": 10,
   "id": "267b5469",
   "metadata": {},
   "outputs": [
    {
     "name": "stdout",
     "output_type": "stream",
     "text": [
      "[0 0 1 ... 1 1 1]\n",
      "[0 0 0 ... 1 0 0]\n"
     ]
    }
   ],
   "source": [
    "#Creates a random forest classifier\n",
    "forest = RandomForestClassifier(n_estimators=50, max_depth=5)\n",
    "\n",
    "#Fits the random forest to the training data\n",
    "forest.fit(x_train, y_train)\n",
    "\n",
    "#Makes a prediction on training data\n",
    "pred_train = forest.predict(x_train)\n",
    "print(pred_train)\n",
    "\n",
    "#Makes a prediction on test data\n",
    "pred_test = forest.predict(x_test)\n",
    "print(pred_test)"
   ]
  },
  {
   "cell_type": "code",
   "execution_count": 11,
   "id": "abf777f3",
   "metadata": {},
   "outputs": [
    {
     "name": "stdout",
     "output_type": "stream",
     "text": [
      "0.9985218554233828\n"
     ]
    }
   ],
   "source": [
    "#Prints accuracy of training data based on true values (y_train values, if URL was malicious)\n",
    "accuracy_train = metrics.accuracy_score(y_train, pred_train)\n",
    "print(accuracy_train)"
   ]
  },
  {
   "cell_type": "code",
   "execution_count": 12,
   "id": "4745071d",
   "metadata": {},
   "outputs": [
    {
     "name": "stdout",
     "output_type": "stream",
     "text": [
      "0.998687233344273\n"
     ]
    }
   ],
   "source": [
    "#Prints accuracy of training data based on true values (y_test values, if URL was malicious)\n",
    "accuracy_test = metrics.accuracy_score(y_test, pred_test)\n",
    "print(accuracy_test)"
   ]
  },
  {
   "cell_type": "code",
   "execution_count": 13,
   "id": "8781e716",
   "metadata": {},
   "outputs": [
    {
     "name": "stdout",
     "output_type": "stream",
     "text": [
      "0.0013127666557269935\n"
     ]
    }
   ],
   "source": [
    "#Prints error value based on test data accuracy\n",
    "error = 1 - accuracy_test\n",
    "print(error)"
   ]
  },
  {
   "cell_type": "code",
   "execution_count": null,
   "id": "a6bf952f",
   "metadata": {},
   "outputs": [],
   "source": []
  }
 ],
 "metadata": {
  "kernelspec": {
   "display_name": "Python 3",
   "language": "python",
   "name": "python3"
  },
  "language_info": {
   "codemirror_mode": {
    "name": "ipython",
    "version": 3
   },
   "file_extension": ".py",
   "mimetype": "text/x-python",
   "name": "python",
   "nbconvert_exporter": "python",
   "pygments_lexer": "ipython3",
   "version": "3.9.6"
  }
 },
 "nbformat": 4,
 "nbformat_minor": 5
}

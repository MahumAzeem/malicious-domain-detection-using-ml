{
 "cells": [
  {
   "cell_type": "code",
   "execution_count": 1,
   "id": "aeece262",
   "metadata": {},
   "outputs": [],
   "source": [
    "import pandas\n",
    "from sklearn.model_selection import train_test_split\n",
    "from sklearn.ensemble import RandomForestClassifier\n",
    "from sklearn.tree import DecisionTreeClassifier\n",
    "from sklearn import metrics "
   ]
  },
  {
   "cell_type": "code",
   "execution_count": 2,
   "id": "667f7963",
   "metadata": {},
   "outputs": [],
   "source": [
    "#Creates the columns for each of the features in csv data\n",
    "columns = ['url','malicious','url_res','hostname_res','path_res',\n",
    "           'first_dir_res','top_level_res','dash_res','at_res','q_res',\n",
    "           'percent_res','dot_res','equal_res','colon_res','www_res','numbers_res','letters_res',\n",
    "           'dir_res','single_letter_res','query_res','ratio_upper_lower_res','ip_res','shortened_res','http_res']\n",
    "\n",
    "#Reads them into results from shuffled output file\n",
    "results = pandas.read_csv('../data/kaggle_out.csv', header=None, names=columns)"
   ]
  },
  {
   "cell_type": "code",
   "execution_count": 44,
   "id": "28000662",
   "metadata": {},
   "outputs": [
    {
     "name": "stdout",
     "output_type": "stream",
     "text": [
      "[[ 35.  14.   9. ...   0.   0.   1.]\n",
      " [ 37.   7.  18. ...   0.   0.   1.]\n",
      " [ 95.  14.  30. ...   0.   1.   1.]\n",
      " ...\n",
      " [158.  34.   2. ...   0.   0.   1.]\n",
      " [ 53.   9.  12. ...   0.   0.   1.]\n",
      " [ 60.  17.   6. ...   0.   0.   1.]]\n",
      "[1 1 1 ... 1 1 1]\n",
      "(20000, 22)\n",
      "(20000,)\n"
     ]
    }
   ],
   "source": [
    "results = results.drop([results.index[0]]) #this is to delete row with headers\n",
    "#results = results.drop([results.index[4132]]) #this is to delete row with headers after combining files\n",
    "\n",
    "#Parses data into numerical values to be used to train and test data\n",
    "droppedResults = results.drop(columns=['malicious', 'url'])\n",
    "droppedResults['url_res'] = pandas.to_numeric(droppedResults['url_res'], downcast='integer')\n",
    "droppedResults['hostname_res'] = pandas.to_numeric(droppedResults['hostname_res'])\n",
    "droppedResults['path_res'] = pandas.to_numeric(droppedResults['path_res'])\n",
    "droppedResults['first_dir_res'] = pandas.to_numeric(droppedResults['first_dir_res'])\n",
    "droppedResults['top_level_res'] = pandas.to_numeric(droppedResults['top_level_res'])\n",
    "droppedResults['dash_res'] = pandas.to_numeric(droppedResults['dash_res'])\n",
    "droppedResults['at_res'] = pandas.to_numeric(droppedResults['at_res'])\n",
    "droppedResults['q_res'] = pandas.to_numeric(droppedResults['q_res'])\n",
    "droppedResults['percent_res'] = pandas.to_numeric(droppedResults['percent_res'])\n",
    "droppedResults['dot_res'] = pandas.to_numeric(droppedResults['dot_res'])\n",
    "droppedResults['equal_res'] = pandas.to_numeric(droppedResults['equal_res'])\n",
    "droppedResults['colon_res'] = pandas.to_numeric(droppedResults['colon_res'])\n",
    "droppedResults['www_res'] = pandas.to_numeric(droppedResults['www_res'])\n",
    "droppedResults['numbers_res'] = pandas.to_numeric(droppedResults['numbers_res'])\n",
    "droppedResults['letters_res'] = pandas.to_numeric(droppedResults['letters_res'])\n",
    "droppedResults['dir_res'] = pandas.to_numeric(droppedResults['dir_res'])\n",
    "droppedResults['single_letter_res'] = pandas.to_numeric(droppedResults['single_letter_res'])\n",
    "droppedResults['query_res'] = pandas.to_numeric(droppedResults['query_res'])\n",
    "droppedResults['ratio_upper_lower_res'] = pandas.to_numeric(droppedResults['ratio_upper_lower_res'])\n",
    "droppedResults['ip_res'] = pandas.to_numeric(droppedResults['ip_res'])\n",
    "droppedResults['shortened_res'] = pandas.to_numeric(droppedResults['shortened_res'])\n",
    "droppedResults['http_res'] = pandas.to_numeric(droppedResults['http_res'])\n",
    "\n",
    "#Sets x to the features without the URL or malicious attributes included\n",
    "x = droppedResults.values\n",
    "\n",
    "results['malicious'] = pandas.to_numeric(results['malicious'])\n",
    "\n",
    "#Sets y to the boolean value of if URL was malicious or not\n",
    "y = results['malicious'].values\n",
    "\n",
    "print(x)\n",
    "print(y)\n",
    "\n",
    "print(x.shape)\n",
    "print(y.shape)"
   ]
  },
  {
   "cell_type": "code",
   "execution_count": 45,
   "id": "1c9ad6df",
   "metadata": {},
   "outputs": [],
   "source": [
    "#Splits data into train and test data sets based on test size. \n",
    "x_train, x_test, y_train, y_test = train_test_split(x, y, test_size = 0.3, random_state = 1)"
   ]
  },
  {
   "cell_type": "code",
   "execution_count": 46,
   "id": "ad733f2b",
   "metadata": {},
   "outputs": [
    {
     "name": "stdout",
     "output_type": "stream",
     "text": [
      "[1 1 1 ... 0 1 1]\n",
      "[1 1 1 ... 0 1 1]\n"
     ]
    }
   ],
   "source": [
    "#Creates a decision tree classifier\n",
    "tree = DecisionTreeClassifier()\n",
    "\n",
    "#Fits the tree to the training data\n",
    "tree.fit(x_train, y_train)\n",
    "\n",
    "#Makes a prediction on training data\n",
    "pred_train = tree.predict(x_train)\n",
    "print(pred_train)\n",
    "\n",
    "#Makes a predicition on test data\n",
    "pred_test = tree.predict(x_test)\n",
    "print(pred_test)"
   ]
  },
  {
   "cell_type": "code",
   "execution_count": 47,
   "id": "a8ba6467",
   "metadata": {},
   "outputs": [
    {
     "name": "stdout",
     "output_type": "stream",
     "text": [
      "0.9993571428571428\n"
     ]
    }
   ],
   "source": [
    "#Prints accuracy of training data based on true values (y values, if URL was malicious)\n",
    "accuracy_train = metrics.accuracy_score(y_train, pred_train)\n",
    "print(accuracy_train)"
   ]
  },
  {
   "cell_type": "code",
   "execution_count": 48,
   "id": "5d53943d",
   "metadata": {},
   "outputs": [
    {
     "name": "stdout",
     "output_type": "stream",
     "text": [
      "0.9938333333333333\n"
     ]
    }
   ],
   "source": [
    "#Prints accuracy of test data based on true values (y values, if URL was malicious)\n",
    "accuracy_test = metrics.accuracy_score(y_test, pred_test)\n",
    "print(accuracy_test)"
   ]
  },
  {
   "cell_type": "code",
   "execution_count": 49,
   "id": "396dad25",
   "metadata": {},
   "outputs": [
    {
     "name": "stdout",
     "output_type": "stream",
     "text": [
      "0.006166666666666654\n"
     ]
    }
   ],
   "source": [
    "#Prints error value based on test data accuracy\n",
    "error = 1 - accuracy_test\n",
    "print(error)"
   ]
  },
  {
   "cell_type": "code",
   "execution_count": 50,
   "id": "f73b83fb",
   "metadata": {},
   "outputs": [
    {
     "name": "stdout",
     "output_type": "stream",
     "text": [
      "[1 1 1 ... 0 1 1]\n",
      "[1 1 1 ... 0 1 1]\n"
     ]
    }
   ],
   "source": [
    "#Creates a random forest classifier\n",
    "forest = RandomForestClassifier()\n",
    "\n",
    "#Fits the random forest to the training data\n",
    "forest.fit(x_train, y_train)\n",
    "\n",
    "#Makes a prediction on training data\n",
    "pred_train = forest.predict(x_train)\n",
    "print(pred_train)\n",
    "\n",
    "#Makes a prediction on test data\n",
    "pred_test = forest.predict(x_test)\n",
    "print(pred_test)"
   ]
  },
  {
   "cell_type": "code",
   "execution_count": 51,
   "id": "327a1c89",
   "metadata": {},
   "outputs": [
    {
     "name": "stdout",
     "output_type": "stream",
     "text": [
      "0.9993571428571428\n"
     ]
    }
   ],
   "source": [
    "#Prints accuracy of training data based on true values (y values, if URL was malicious)\n",
    "accuracy_train = metrics.accuracy_score(y_train, pred_train)\n",
    "print(accuracy_train)"
   ]
  },
  {
   "cell_type": "code",
   "execution_count": 52,
   "id": "f8fe07dc",
   "metadata": {},
   "outputs": [
    {
     "name": "stdout",
     "output_type": "stream",
     "text": [
      "0.9981666666666666\n"
     ]
    }
   ],
   "source": [
    "#Prints accuracy of test data based on true values (y values, if URL was malicious)\n",
    "accuracy_test = metrics.accuracy_score(y_test, pred_test)\n",
    "print(accuracy_test)"
   ]
  },
  {
   "cell_type": "code",
   "execution_count": 53,
   "id": "7e954bbf",
   "metadata": {},
   "outputs": [
    {
     "name": "stdout",
     "output_type": "stream",
     "text": [
      "0.0018333333333333535\n"
     ]
    }
   ],
   "source": [
    "#Prints error value based on test data accuracy\n",
    "error = 1 - accuracy_test\n",
    "print(error)"
   ]
  },
  {
   "cell_type": "code",
   "execution_count": null,
   "id": "d293bd2c",
   "metadata": {},
   "outputs": [],
   "source": []
  }
 ],
 "metadata": {
  "kernelspec": {
   "display_name": "Python 3",
   "language": "python",
   "name": "python3"
  },
  "language_info": {
   "codemirror_mode": {
    "name": "ipython",
    "version": 3
   },
   "file_extension": ".py",
   "mimetype": "text/x-python",
   "name": "python",
   "nbconvert_exporter": "python",
   "pygments_lexer": "ipython3",
   "version": "3.7.6"
  }
 },
 "nbformat": 4,
 "nbformat_minor": 5
}

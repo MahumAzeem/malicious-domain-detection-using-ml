{
 "cells": [
  {
   "cell_type": "code",
   "execution_count": 6,
   "id": "35f8de91",
   "metadata": {},
   "outputs": [],
   "source": [
    "import sys\n",
    "import pandas as pd\n",
    "import numpy as np\n",
    "import sklearn\n",
    "import requests"
   ]
  },
  {
   "cell_type": "code",
   "execution_count": 7,
   "id": "3ab70e4b",
   "metadata": {},
   "outputs": [],
   "source": [
    "#Read csv data using pandas\n",
    "#data=pd.read_csv('dataset.csv')"
   ]
  },
  {
   "cell_type": "code",
   "execution_count": 26,
   "id": "bfda811e",
   "metadata": {},
   "outputs": [],
   "source": [
    "#Length of URL\n",
    "def URL_len(url):\n",
    "    return len(url)\n",
    "\n",
    "#Count of '-'\n",
    "def count_dash(url):\n",
    "    dashes = 0\n",
    "    for char in url:\n",
    "        if char == '-':\n",
    "            dashes += 1     \n",
    "    return dashes\n",
    "\n",
    "#Count of '@'\n",
    "def count_at(url):\n",
    "    at = 0\n",
    "    for char in url:\n",
    "        if char == '@':\n",
    "            at += 1     \n",
    "    return at\n",
    "\n",
    "#Count of '?'\n",
    "def count_q(url):\n",
    "    q = 0\n",
    "    for char in url:\n",
    "        if char == '?':\n",
    "            q += 1     \n",
    "    return q\n",
    "\n",
    "#Count of '%'\n",
    "def count_percent(url):\n",
    "    percent = 0\n",
    "    for char in url:\n",
    "        if char == '%':\n",
    "            percent += 1     \n",
    "    return percent\n",
    "\n",
    "#Count of '.'\n",
    "def count_dot(url):\n",
    "    dot = 0\n",
    "    for char in url:\n",
    "        if char == '.':\n",
    "            dot += 1     \n",
    "    return dot\n",
    "\n",
    "#Count of '='\n",
    "def count_equal(url):\n",
    "    eq = 0\n",
    "    for char in url:\n",
    "        if char == '=':\n",
    "            eq += 1     \n",
    "    return eq\n",
    "\n",
    "#Count of ';'\n",
    "def count_colon(url):\n",
    "    colon = 0\n",
    "    for char in url:\n",
    "        if char == ';':\n",
    "            colon += 1     \n",
    "    return colon\n",
    "\n",
    "#Count of numbers\n",
    "def count_numbers(url):\n",
    "    numbers = sum(c.isdigit() for c in url)\n",
    "    return numbers\n",
    "\n",
    "#Count of letters\n",
    "def count_letters(url):\n",
    "    letters = sum(c.isalpha() for c in url)\n",
    "    return letters\n",
    "\n",
    "#HTTP vs. HTTPS\n",
    "#Returns 1 if HTTPS, 0 if HTTP\n",
    "#If inputted URL does not contain either, does a browser request using HTTPS, if an error occurs then is http\n",
    "def is_http(url):\n",
    "    if url[:5] == 'https':\n",
    "        return 1\n",
    "    elif url[:4] == 'http':\n",
    "        return 0\n",
    "    else:\n",
    "        try:\n",
    "            r = requests.get('https://'+ url)\n",
    "            return 1\n",
    "        except:\n",
    "            return 0\n"
   ]
  },
  {
   "cell_type": "code",
   "execution_count": 3,
   "id": "35c82eb0",
   "metadata": {},
   "outputs": [
    {
     "data": {
      "text/html": [
       "<div>\n",
       "<style scoped>\n",
       "    .dataframe tbody tr th:only-of-type {\n",
       "        vertical-align: middle;\n",
       "    }\n",
       "\n",
       "    .dataframe tbody tr th {\n",
       "        vertical-align: top;\n",
       "    }\n",
       "\n",
       "    .dataframe thead th {\n",
       "        text-align: right;\n",
       "    }\n",
       "</style>\n",
       "<table border=\"1\" class=\"dataframe\">\n",
       "  <thead>\n",
       "    <tr style=\"text-align: right;\">\n",
       "      <th></th>\n",
       "      <th>url</th>\n",
       "      <th>evil</th>\n",
       "      <th>length</th>\n",
       "      <th>periods</th>\n",
       "      <th>semicolons</th>\n",
       "      <th>etc</th>\n",
       "    </tr>\n",
       "  </thead>\n",
       "  <tbody>\n",
       "  </tbody>\n",
       "</table>\n",
       "</div>"
      ],
      "text/plain": [
       "Empty DataFrame\n",
       "Columns: [url, evil, length, periods, semicolons, etc]\n",
       "Index: []"
      ]
     },
     "execution_count": 3,
     "metadata": {},
     "output_type": "execute_result"
    }
   ],
   "source": [
    "#Create a dataframe to contain our processsed data with custom columns\n",
    "processed_data = pd.DataFrame(columns=['url','evil','length','periods','semicolons','etc'])\n",
    "#To print\n",
    "processed_data"
   ]
  },
  {
   "cell_type": "code",
   "execution_count": null,
   "id": "c58076af",
   "metadata": {},
   "outputs": [],
   "source": []
  },
  {
   "cell_type": "code",
   "execution_count": null,
   "id": "4d6fae09",
   "metadata": {},
   "outputs": [],
   "source": []
  }
 ],
 "metadata": {
  "kernelspec": {
   "display_name": "Python 3",
   "language": "python",
   "name": "python3"
  },
  "language_info": {
   "codemirror_mode": {
    "name": "ipython",
    "version": 3
   },
   "file_extension": ".py",
   "mimetype": "text/x-python",
   "name": "python",
   "nbconvert_exporter": "python",
   "pygments_lexer": "ipython3",
   "version": "3.7.2"
  }
 },
 "nbformat": 4,
 "nbformat_minor": 5
}
